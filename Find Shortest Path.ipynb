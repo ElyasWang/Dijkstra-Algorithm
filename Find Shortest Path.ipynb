{
 "cells": [
  {
   "attachments": {},
   "cell_type": "markdown",
   "metadata": {},
   "source": [
    "The existing run chart is as follows："
   ]
  },
  {
   "cell_type": "markdown",
   "metadata": {},
   "source": [
    "<p align=\"center\">\n",
    "  <img src=\"scheduling_graph_dijkstra.png\" />\n",
    "</p>"
   ]
  },
  {
   "attachments": {},
   "cell_type": "markdown",
   "metadata": {},
   "source": [
    "According to Dijkstra's algorithm, the steps to find the shortest path should be："
   ]
  },
  {
   "attachments": {},
   "cell_type": "markdown",
   "metadata": {},
   "source": [
    "\n",
    "|Step|$\\textit{dist}(H2, H0), \\textit{pred}(H0)$|$\\textit{dist}(H2, H1), \\textit{pred}(H1)$|$\\textit{dist}(H2, H3), \\textit{pred}(H3)$|$\\textit{dist}(H2, H4), \\textit{pred}(H4)$|PriorityQueue|\n",
    "|-------|--------------|--------------|--------------|--------------|--------------|\n",
    "|$0$|$\\infty$|$\\infty$|$\\infty$|$\\infty$|$H2$|\n",
    "|$1$|$\\infty$|$\\infty$|(9 - 10),$H2$|(8 - 9),$H2$|$H4$,$H3$|\n",
    "|$2$|$\\infty$|(8 - 9)(10 - 11),$H4$|(9 - 10),$H2$|-|$H3$,$H1$|\n",
    "|$3$|(9 - 10)(15 - 15.5),$H3$|(8 - 9)(10 - 11),$H4$|-|-|$H1$,$H0$|\n",
    "|$4$|(9 - 10)(15 - 15.5),$H3$|-|-|-|$H0$|\n"
   ]
  },
  {
   "attachments": {},
   "cell_type": "markdown",
   "metadata": {},
   "source": [
    "Algorithm implementation："
   ]
  },
  {
   "cell_type": "code",
   "execution_count": 1,
   "metadata": {},
   "outputs": [],
   "source": [
    "from typing import List, Tuple\n",
    "\n",
    "def generate_graph(schedules:List[List[List[int]]]) -> List[List[Tuple[int, int, float]]]:\n",
    "    \"\"\"Function to generate a scheduling graph from a list of schedules. The scheduling graph is returned as\n",
    "    adjacency lists [(destination, start_time, arrival_time)]. \n",
    "    In a graph of three nodes 0, 1 and 2 with the edges 0->1 from 8 to 10.42, 0->1 from 11 to 12,\n",
    "    1->2 from 11 to 13.37 and 1->0 from 8 to 17, the respective representation would look as follows:\n",
    "    [[(1, 8, 10.42), (1, 11, 12)], [(2, 11, 13.37), (0, 8, 17)]]\"\"\"\n",
    "    tuple_tmp=Tuple[int, int, float]\n",
    "    #   init of output: adjazenzliste\n",
    "    adjazenzliste = []\n",
    "    #   size of input list\n",
    "    len_list = len(schedules)\n",
    "    #  Iterate through each starting stations\n",
    "    for start in range(len_list):                               \n",
    "        list_tmp = []\n",
    "        #   Iterate through each destination stations\n",
    "        for destination in range(len_list): \n",
    "            #   Iterate through 24 hours                          \n",
    "            for start_time in range(24): \n",
    "                #   Find the hour of start                            \n",
    "                if schedules[start][destination][start_time] != float('inf'): \n",
    "                    #   Calculate arrival time     \n",
    "                    arrival_time = start_time + schedules[start][destination][start_time]   \n",
    "                    #   Give up cross-day schedule             \n",
    "                    if arrival_time < 24:   \n",
    "                        #   Record (destination, start_time, arrival_time) into tuple                           \n",
    "                        tuple_tmp = (destination,start_time,arrival_time)  \n",
    "                        #   Record tuple into list               \n",
    "                        list_tmp.append(tuple_tmp)           \n",
    "        # if len(out_tmp):\n",
    "        #     adjazenzliste.append(out_tmp)\n",
    "        adjazenzliste.append(list_tmp)                              \n",
    "    return adjazenzliste\n"
   ]
  },
  {
   "cell_type": "code",
   "execution_count": null,
   "metadata": {},
   "outputs": [],
   "source": [
    "from queue import PriorityQueue\n",
    "from typing import List, Tuple\n",
    "\n",
    "def scheduling_dijkstra(graph:List[List[Tuple[int, int, float]]], start:int, target:int, start_time:float) -> List[Tuple[int, float]]:\n",
    "    \"\"\"Implementation of Dijkstra's algorithm to determine a shortest path in the given scheduling graph. Takes a scheduling graph in \n",
    "    form of adjacency lists, a starting node, a starting time and a target node as its input and returns a shortest path from the \n",
    "    starting node to the target node. The path is given in the form of a list of tuples containing node and arrival time at that node\n",
    "    in the path. A path which starts at node 0 at time 8, arrives at node 1 from node 0 at time 10.42 and reaches the target node 2\n",
    "    at time 13.37 would be represented as [(0, 8), (1, 10.42), (2, 13.37)].\"\"\"    \n",
    "    \n",
    "    tuple_temp = ()\n",
    "    station_num = len(graph)\n",
    "    dist_arrival = []\n",
    "    dic_path = {}\n",
    "    visited = []\n",
    "    q = PriorityQueue()\n",
    "    curr = []\n",
    "    path = []\n",
    "    shortest_path = []\n",
    "\n",
    "    for i in range(station_num):\n",
    "        #   Set the initial arrival time of each node to 999\n",
    "        dist_arrival.append(999)   \n",
    "        #   The previous node of the initial path is None\n",
    "        dic_path[i] = None      \n",
    "        #   initial for all nodes not visited\n",
    "        visited.append(0) \n",
    "    #   Set the arrival time of start node to 0   \n",
    "    dist_arrival[start] = 0\n",
    "    \n",
    "    #   Iterate over the tuple of nodes next to the starting node\n",
    "    for destination in graph[start]:\n",
    "        #   Select possible edge by using start time\n",
    "        if destination[1] >= start_time:\n",
    "            #   Put start node into priority queue\n",
    "            q.put((destination[2],destination)) \n",
    "            #   Set the arrival time of next node     \n",
    "            dist_arrival[destination[0]] = destination[2]\n",
    "            #   Record previous nodes\n",
    "            dic_path[destination[0]]=start\n",
    "    while not q.empty():\n",
    "        #   Take the next node from the priority queue with the earliest arrival time\n",
    "        tmp = q.get()\n",
    "        #   The tuple of next node \n",
    "        curr = tmp[1]\n",
    "        #   Check whether the node has been visited, if yes, do next while loop, otherwise run the next line of code\n",
    "        if visited[curr[0]]:     \n",
    "            continue\n",
    "        #   Set visited node to 1\n",
    "        visited[curr[0]] = 1\n",
    "        #   Record the arrival time of this node\n",
    "        dist_arrival[curr[0]] = tmp[0]\n",
    "        #   Iterate over the next node of the current node\n",
    "        for temp in graph[curr[0]]:\n",
    "            #   the next node not been visited & the departure time is later than the arrival time of the current node \n",
    "            #   & the arrival time of next node is earlier than the time now recorded for next node\n",
    "            if (not visited[temp[0]]) & (temp[2] <= dist_arrival[temp[0]]) & (tmp[0] <= temp[1]):\n",
    "                #   Update arrival time, record parent node, put next node into priority queue\n",
    "                dist_arrival[temp[0]] = temp[2]\n",
    "                dic_path[temp[0]]=curr[0]           \n",
    "                q.put((temp[2],temp)) \n",
    "    \n",
    "    if dist_arrival[target] >= 24:\n",
    "        #   If it is not possible to arrive today, give an information message \n",
    "        return print(\"Attention: Unable to arrive today\")\n",
    "    else:\n",
    "        #   Output shortest path\n",
    "        last = target\n",
    "        #   Reverse path finding from the end node\n",
    "        while True:\n",
    "            tuple_temp = (last,dist_arrival[last])\n",
    "            shortest_path.append(tuple_temp)\n",
    "            last = dic_path[last]\n",
    "            if last == start:\n",
    "                break\n",
    "        #   Find the second node from the starting node and the arrival time to the second node\n",
    "        sec_node = shortest_path[-1][0]\n",
    "        sec_arrival = shortest_path[-1][1]\n",
    "        #   Using the arrival time and the second node number, traverse the neighboring nodes of the starting node\n",
    "        #   to find the departure time (departure time should be later than the start time)\n",
    "        for sec in graph[start]:\n",
    "            if (sec[0] == sec_node) & (sec[-1] == sec_arrival) & (sec[1] >= start_time):\n",
    "                depature_time = sec[1]\n",
    "        #   Add the last tuple\n",
    "        shortest_path.append((start,depature_time))\n",
    "        #   Revert the path to start-end order\n",
    "        shortest_path.reverse()\n",
    "        return shortest_path\n",
    "\n"
   ]
  },
  {
   "attachments": {},
   "cell_type": "markdown",
   "metadata": {},
   "source": [
    "Test samples are shown below： **（If there is a next day arrival, a notification should be returned）**"
   ]
  },
  {
   "cell_type": "code",
   "execution_count": null,
   "metadata": {},
   "outputs": [
    {
     "name": "stdout",
     "output_type": "stream",
     "text": [
      "[(0, 8), (1, 10.42), (2, 13.370000000000001)]\n",
      "[(2, 9), (3, 10), (0, 15.5)]\n",
      "Attention: Unable to arrive today\n",
      "None\n",
      "[(0, 4), (1, 5.5), (2, 7.5), (3, 11)]\n"
     ]
    }
   ],
   "source": [
    "example = [[[float('inf')] * 24 for _ in range(3)] for _ in range(3)]\n",
    "\n",
    "example[0][1][8] = 2.42\n",
    "example[0][1][11] = 1\n",
    "\n",
    "example[1][0][8] = 9\n",
    "example[1][2][11] = 2.37\n",
    "\n",
    "example_graph = generate_graph(example)\n",
    "print(scheduling_dijkstra(example_graph, 0, 2, 6.66))\n",
    "\n",
    "h1 = [[[float('inf')] * 24 for _ in range(5)] for _ in range(5)]\n",
    "\n",
    "h1[2][4][8] = 1\n",
    "h1[2][3][9] = 1\n",
    "\n",
    "h1[4][2][8] = 1\n",
    "h1[4][1][10] = 1\n",
    "h1[4][1][19] = 3\n",
    "\n",
    "h1[3][0][15] = 0.5\n",
    "\n",
    "h1[1][3][14] = 0.5\n",
    "h1[1][0][15] = 1.5\n",
    "h1[1][3][23] = 2\n",
    "\n",
    "h1[0][2][13] = 1\n",
    "h1[0][1][13] = 1\n",
    "\n",
    "graph1 = generate_graph(h1)\n",
    "print(scheduling_dijkstra(graph1, 2, 0, 8))\n",
    "print(scheduling_dijkstra(graph1, 2, 0, 12))\n",
    "\n",
    "h2 = [[[float('inf')] * 24 for _ in range(4)] for _ in range(4)]\n",
    "\n",
    "h2[0][1][4] = 1.5\n",
    "h2[0][2][7] = 1\n",
    "h2[0][3][9] = 8\n",
    "\n",
    "h2[1][2][6] = 1.5\n",
    "h2[1][3][6] = 6\n",
    "\n",
    "h2[2][1][9] = 1\n",
    "h2[2][3][9] = 2\n",
    "\n",
    "h2[3][0][4] = 1\n",
    "\n",
    "graph2 = generate_graph(h2)\n",
    "print(scheduling_dijkstra(graph2, 0, 3, 2))"
   ]
  }
 ],
 "metadata": {
  "kernelspec": {
   "display_name": "Python 3",
   "language": "python",
   "name": "python3"
  },
  "language_info": {
   "name": "python",
   "version": "3.10.8 (tags/v3.10.8:aaaf517, Oct 11 2022, 16:50:30) [MSC v.1933 64 bit (AMD64)]"
  },
  "orig_nbformat": 4,
  "vscode": {
   "interpreter": {
    "hash": "5ff9823a1bd50340545949ce1f198d405a5c040517918b30cba0306c8c6f3796"
   }
  }
 },
 "nbformat": 4,
 "nbformat_minor": 2
}
